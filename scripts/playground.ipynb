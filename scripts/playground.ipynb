{
 "cells": [
  {
   "cell_type": "code",
   "id": "ed697cdf",
   "metadata": {
    "ExecuteTime": {
     "end_time": "2025-06-27T13:43:21.569153Z",
     "start_time": "2025-06-27T13:43:20.520720Z"
    }
   },
   "source": [
    "from qibo import set_backend, get_backend\n",
    "from qibo.backends import Modality\n",
    "from qibo.gates import PS, BS, H\n",
    "from qibo.models import Circuit\n",
    "import numpy as np"
   ],
   "outputs": [],
   "execution_count": 1
  },
  {
   "cell_type": "code",
   "id": "107e6780",
   "metadata": {
    "ExecuteTime": {
     "end_time": "2025-06-27T13:43:21.580381Z",
     "start_time": "2025-06-27T13:43:21.569153Z"
    }
   },
   "source": "set_backend(\"loqc\")",
   "outputs": [
    {
     "name": "stderr",
     "output_type": "stream",
     "text": [
      "[Qibo 0.2.19|INFO|2025-06-27 15:43:21]: Using LOQC strong simulation backend on /CPU:0\n"
     ]
    }
   ],
   "execution_count": 2
  },
  {
   "cell_type": "code",
   "id": "3f931e08",
   "metadata": {
    "ExecuteTime": {
     "end_time": "2025-06-27T13:43:21.708282Z",
     "start_time": "2025-06-27T13:43:21.703625Z"
    }
   },
   "source": [
    "backend = get_backend()\n",
    "print(backend.versions, backend.modality)"
   ],
   "outputs": [
    {
     "name": "stdout",
     "output_type": "stream",
     "text": [
      "{'qibo': '0.2.19', 'perceval': '0.13.0'} Modality.PHOTONIC_CV\n"
     ]
    }
   ],
   "execution_count": 3
  },
  {
   "cell_type": "code",
   "id": "7342e8df",
   "metadata": {
    "ExecuteTime": {
     "end_time": "2025-06-27T13:43:21.719398Z",
     "start_time": "2025-06-27T13:43:21.714315Z"
    }
   },
   "source": [
    "# Retrieve matrix for parametrized gates\n",
    "bs1 = BS(0, 1, np.pi/2)\n",
    "print(\"theta=pi/2\", bs1.matrix())\n",
    "\n",
    "bs1.parameters = [0.4]\n",
    "print(\"theta=0.4\", bs1.matrix())\n",
    "\n",
    "# Through the backend too\n",
    "print(\"Phase shifter, phi=0.3\", backend.matrix(PS(0, 0.3)))"
   ],
   "outputs": [
    {
     "name": "stdout",
     "output_type": "stream",
     "text": [
      "theta=pi/2 [[0.70710678+0.j         0.        -0.70710678j]\n",
      " [0.        -0.70710678j 0.70710678+0.j        ]]\n",
      "theta=0.4 [[0.98006658+0.j         0.        -0.19866933j]\n",
      " [0.        -0.19866933j 0.98006658+0.j        ]]\n",
      "Phase shifter, phi=0.3 [-0.41614684+0.90929743j]\n"
     ]
    }
   ],
   "execution_count": 4
  },
  {
   "cell_type": "code",
   "id": "28dfa5c1",
   "metadata": {
    "ExecuteTime": {
     "end_time": "2025-06-27T13:43:21.731734Z",
     "start_time": "2025-06-27T13:43:21.724439Z"
    }
   },
   "source": [
    "# Create a photonic circuit\n",
    "\n",
    "pc = Circuit(3, modality=Modality.PHOTONIC)\n",
    "pc.add(H(0))\n",
    "pc.add(PS(0, 0.3, trainable=True))\n",
    "pc.add(BS(0, 1))\n",
    "pc.add(BS(1, 2))\n",
    "pc.add(PS(2, 0.8, trainable=False))\n",
    "pc.add(BS(1, 2))\n"
   ],
   "outputs": [],
   "execution_count": 5
  },
  {
   "cell_type": "code",
   "id": "45900543",
   "metadata": {
    "ExecuteTime": {
     "end_time": "2025-06-27T13:43:21.763446Z",
     "start_time": "2025-06-27T13:43:21.758464Z"
    }
   },
   "source": [
    "print(pc.summary())\n",
    "print()\n",
    "print(pc.diagram())"
   ],
   "outputs": [
    {
     "name": "stdout",
     "output_type": "stream",
     "text": [
      "Circuit depth = 6\n",
      "Total number of gates = 6\n",
      "Number of modes = 3\n",
      "Most common gates:\n",
      "Beam splitter: 3\n",
      "Phase shifter: 2\n",
      "h: 1\n",
      "\n",
      "0: ─H─PS─X────────\n",
      "1: ──────X─X────X─\n",
      "2: ────────X─PS─X─\n"
     ]
    }
   ],
   "execution_count": 6
  },
  {
   "cell_type": "code",
   "id": "69e98485",
   "metadata": {
    "ExecuteTime": {
     "end_time": "2025-06-27T13:43:21.778355Z",
     "start_time": "2025-06-27T13:43:21.768824Z"
    }
   },
   "source": [
    "print(pc.to_pcvl())"
   ],
   "outputs": [
    {
     "name": "stdout",
     "output_type": "stream",
     "text": [
      "pcvl.Experiment(3)\n",
      "    .add(0, BS.H())\n",
      "    .add(0, PS(0.3))\n",
      "    .add(0, BS(1.5707963267948966))\n",
      "    .add(1, BS(1.5707963267948966))\n",
      "    .add(2, PS(0.8))\n",
      "    .add(1, BS(1.5707963267948966))\n"
     ]
    }
   ],
   "execution_count": 7
  },
  {
   "cell_type": "code",
   "id": "d9207ff4",
   "metadata": {
    "ExecuteTime": {
     "end_time": "2025-06-27T13:43:21.796712Z",
     "start_time": "2025-06-27T13:43:21.784029Z"
    }
   },
   "source": [
    "# circuit simulation\n",
    "params = [0.]\n",
    "res = pc(initial_state=(1, 0, 1), nshots=100)\n",
    "print(res)"
   ],
   "outputs": [
    {
     "name": "stdout",
     "output_type": "stream",
     "text": [
      "MeasurementResult(qubits=3, nshots=100)\n"
     ]
    }
   ],
   "execution_count": 8
  },
  {
   "cell_type": "code",
   "id": "d92b37c4",
   "metadata": {
    "ExecuteTime": {
     "end_time": "2025-06-27T13:43:21.812991Z",
     "start_time": "2025-06-27T13:43:21.805645Z"
    }
   },
   "source": [
    "res.samples()"
   ],
   "outputs": [
    {
     "data": {
      "text/plain": [
       "[[0, 1, 1],\n",
       " [1, 1, 0],\n",
       " [0, 2, 0],\n",
       " [1, 1, 0],\n",
       " [1, 0, 1],\n",
       " [0, 0, 2],\n",
       " [1, 1, 0],\n",
       " [1, 1, 0],\n",
       " [1, 1, 0],\n",
       " [1, 1, 0],\n",
       " [1, 1, 0],\n",
       " [1, 1, 0],\n",
       " [0, 1, 1],\n",
       " [1, 0, 1],\n",
       " [1, 0, 1],\n",
       " [0, 2, 0],\n",
       " [1, 1, 0],\n",
       " [1, 1, 0],\n",
       " [1, 1, 0],\n",
       " [0, 1, 1],\n",
       " [1, 0, 1],\n",
       " [0, 0, 2],\n",
       " [1, 1, 0],\n",
       " [1, 1, 0],\n",
       " [1, 1, 0],\n",
       " [1, 1, 0],\n",
       " [1, 1, 0],\n",
       " [0, 1, 1],\n",
       " [0, 2, 0],\n",
       " [0, 1, 1],\n",
       " [0, 2, 0],\n",
       " [1, 1, 0],\n",
       " [0, 1, 1],\n",
       " [0, 0, 2],\n",
       " [1, 1, 0],\n",
       " [0, 0, 2],\n",
       " [1, 1, 0],\n",
       " [1, 1, 0],\n",
       " [1, 0, 1],\n",
       " [0, 1, 1],\n",
       " [1, 1, 0],\n",
       " [1, 1, 0],\n",
       " [1, 1, 0],\n",
       " [0, 1, 1],\n",
       " [1, 1, 0],\n",
       " [1, 1, 0],\n",
       " [1, 1, 0],\n",
       " [1, 1, 0],\n",
       " [1, 1, 0],\n",
       " [0, 0, 2],\n",
       " [1, 1, 0],\n",
       " [1, 1, 0],\n",
       " [0, 2, 0],\n",
       " [1, 0, 1],\n",
       " [0, 1, 1],\n",
       " [0, 0, 2],\n",
       " [1, 1, 0],\n",
       " [1, 1, 0],\n",
       " [1, 1, 0],\n",
       " [1, 0, 1],\n",
       " [1, 1, 0],\n",
       " [1, 1, 0],\n",
       " [0, 1, 1],\n",
       " [1, 1, 0],\n",
       " [1, 1, 0],\n",
       " [1, 1, 0],\n",
       " [0, 2, 0],\n",
       " [0, 2, 0],\n",
       " [0, 1, 1],\n",
       " [0, 2, 0],\n",
       " [1, 1, 0],\n",
       " [1, 0, 1],\n",
       " [1, 1, 0],\n",
       " [1, 1, 0],\n",
       " [0, 1, 1],\n",
       " [0, 1, 1],\n",
       " [1, 1, 0],\n",
       " [0, 2, 0],\n",
       " [1, 1, 0],\n",
       " [1, 0, 1],\n",
       " [0, 1, 1],\n",
       " [0, 1, 1],\n",
       " [0, 1, 1],\n",
       " [0, 1, 1],\n",
       " [1, 1, 0],\n",
       " [0, 1, 1],\n",
       " [1, 1, 0],\n",
       " [0, 1, 1],\n",
       " [1, 1, 0],\n",
       " [0, 1, 1],\n",
       " [0, 1, 1],\n",
       " [1, 1, 0],\n",
       " [1, 1, 0],\n",
       " [1, 1, 0],\n",
       " [1, 1, 0],\n",
       " [0, 2, 0],\n",
       " [1, 1, 0],\n",
       " [1, 1, 0],\n",
       " [0, 2, 0],\n",
       " [1, 1, 0]]"
      ]
     },
     "execution_count": 9,
     "metadata": {},
     "output_type": "execute_result"
    }
   ],
   "execution_count": 9
  },
  {
   "cell_type": "code",
   "id": "74846079",
   "metadata": {
    "ExecuteTime": {
     "end_time": "2025-06-27T13:43:21.822317Z",
     "start_time": "2025-06-27T13:43:21.820089Z"
    }
   },
   "source": [],
   "outputs": [],
   "execution_count": null
  }
 ],
 "metadata": {
  "kernelspec": {
   "display_name": "venv",
   "language": "python",
   "name": "python3"
  },
  "language_info": {
   "codemirror_mode": {
    "name": "ipython",
    "version": 3
   },
   "file_extension": ".py",
   "mimetype": "text/x-python",
   "name": "python",
   "nbconvert_exporter": "python",
   "pygments_lexer": "ipython3",
   "version": "3.13.3"
  }
 },
 "nbformat": 4,
 "nbformat_minor": 5
}
