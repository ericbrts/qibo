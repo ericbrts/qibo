{
 "cells": [
  {
   "cell_type": "code",
   "execution_count": 1,
   "id": "ed697cdf",
   "metadata": {},
   "outputs": [],
   "source": [
    "from qibo import set_backend, get_backend\n",
    "from qibo.gates import PS, BS\n",
    "from qibo.models import PhotonicCircuit\n",
    "import numpy as np"
   ]
  },
  {
   "cell_type": "code",
   "execution_count": 2,
   "id": "107e6780",
   "metadata": {},
   "outputs": [
    {
     "name": "stderr",
     "output_type": "stream",
     "text": [
      "[Qibo 0.2.19|INFO|2025-06-04 00:13:28]: Using slos backend on /CPU:0\n"
     ]
    }
   ],
   "source": [
    "set_backend(\"slos\")"
   ]
  },
  {
   "cell_type": "code",
   "execution_count": 15,
   "id": "3f931e08",
   "metadata": {},
   "outputs": [
    {
     "name": "stdout",
     "output_type": "stream",
     "text": [
      "{'qibo': '0.2.19', 'perceval': '0.13.1'} Modality.PHOTONIC_CV\n"
     ]
    }
   ],
   "source": [
    "backend = get_backend()\n",
    "print(backend.versions, backend.modality)"
   ]
  },
  {
   "cell_type": "code",
   "execution_count": null,
   "id": "7342e8df",
   "metadata": {},
   "outputs": [
    {
     "name": "stdout",
     "output_type": "stream",
     "text": [
      "theta=pi/2 [[0.70710678+0.j         0.        -0.70710678j]\n",
      " [0.        -0.70710678j 0.70710678+0.j        ]]\n",
      "theta=0.4 [[0.98006658+0.j         0.        -0.19866933j]\n",
      " [0.        -0.19866933j 0.98006658+0.j        ]]\n"
     ]
    }
   ],
   "source": [
    "# Parametrized gates\n",
    "bs1 = BS(0, 1, np.pi/2)\n",
    "print(\"theta=pi/2\", bs1.matrix())\n",
    "\n",
    "bs1.parameters = [0.4]\n",
    "print(\"theta=0.4\", bs1.matrix())"
   ]
  },
  {
   "cell_type": "code",
   "execution_count": null,
   "id": "28dfa5c1",
   "metadata": {},
   "outputs": [
    {
     "name": "stdout",
     "output_type": "stream",
     "text": [
      "0: ─X─PS─X────────\n",
      "1: ─X────X─X────X─\n",
      "2: ────────X─PS─X─\n"
     ]
    }
   ],
   "source": [
    "# Create a photonic circuit\n",
    "\n",
    "pc = PhotonicCircuit(3)\n",
    "pc.add(BS(0, 1))\n",
    "pc.add(PS(0, 0.3, trainable=True))\n",
    "pc.add(BS(0, 1))\n",
    "pc.add(BS(1, 2))\n",
    "pc.add(PS(2, 0.8, trainable=False))\n",
    "pc.add(BS(1, 2))\n"
   ]
  },
  {
   "cell_type": "code",
   "execution_count": 17,
   "id": "45900543",
   "metadata": {},
   "outputs": [
    {
     "name": "stdout",
     "output_type": "stream",
     "text": [
      "Circuit depth = 6\n",
      "Total number of gates = 6\n",
      "Number of modes = 3\n",
      "Most common gates:\n",
      "Beam splitter: 4\n",
      "Phase shifter: 2\n",
      "\n",
      "0: ─X─PS─X────────\n",
      "1: ─X────X─X────X─\n",
      "2: ────────X─PS─X─\n"
     ]
    }
   ],
   "source": [
    "print(pc.summary())\n",
    "print()\n",
    "print(pc.diagram())"
   ]
  },
  {
   "cell_type": "code",
   "execution_count": 7,
   "id": "69e98485",
   "metadata": {},
   "outputs": [
    {
     "name": "stdout",
     "output_type": "stream",
     "text": [
      "Circuit(3)\n",
      "    .add(0, BS(1.5707963267948966))\n",
      "    .add(0, PS(0.3))\n",
      "    .add(0, BS(1.5707963267948966))\n",
      "    .add(1, BS(1.5707963267948966))\n",
      "    .add(2, PS(0.8))\n",
      "    .add(1, BS(1.5707963267948966))\n"
     ]
    }
   ],
   "source": [
    "print(pc.to_pcvl())"
   ]
  },
  {
   "cell_type": "code",
   "execution_count": 18,
   "id": "d9207ff4",
   "metadata": {},
   "outputs": [
    {
     "name": "stdout",
     "output_type": "stream",
     "text": [
      "MeasurementResult(qubits=3, nshots=100)\n"
     ]
    }
   ],
   "source": [
    "# circuit simulation\n",
    "params = [0.]\n",
    "res = pc(initial_state=(1, 0, 1), nshots=100)\n",
    "print(res)"
   ]
  },
  {
   "cell_type": "code",
   "execution_count": 19,
   "id": "d92b37c4",
   "metadata": {},
   "outputs": [
    {
     "data": {
      "text/plain": [
       "[[0, 2, 0],\n",
       " [0, 0, 2],\n",
       " [0, 2, 0],\n",
       " [0, 2, 0],\n",
       " [0, 2, 0],\n",
       " [0, 1, 1],\n",
       " [0, 0, 2],\n",
       " [0, 2, 0],\n",
       " [0, 0, 2],\n",
       " [0, 1, 1],\n",
       " [0, 1, 1],\n",
       " [0, 0, 2],\n",
       " [0, 1, 1],\n",
       " [0, 1, 1],\n",
       " [0, 1, 1],\n",
       " [0, 0, 2],\n",
       " [0, 1, 1],\n",
       " [0, 2, 0],\n",
       " [0, 1, 1],\n",
       " [0, 0, 2],\n",
       " [0, 1, 1],\n",
       " [0, 0, 2],\n",
       " [0, 1, 1],\n",
       " [0, 2, 0],\n",
       " [0, 1, 1],\n",
       " [0, 0, 2],\n",
       " [0, 2, 0],\n",
       " [0, 1, 1],\n",
       " [0, 0, 2],\n",
       " [0, 1, 1],\n",
       " [0, 0, 2],\n",
       " [0, 1, 1],\n",
       " [0, 2, 0],\n",
       " [0, 1, 1],\n",
       " [0, 1, 1],\n",
       " [1, 1, 0],\n",
       " [0, 1, 1],\n",
       " [0, 0, 2],\n",
       " [0, 2, 0],\n",
       " [0, 1, 1],\n",
       " [0, 1, 1],\n",
       " [0, 1, 1],\n",
       " [0, 1, 1],\n",
       " [0, 0, 2],\n",
       " [0, 0, 2],\n",
       " [0, 1, 1],\n",
       " [0, 1, 1],\n",
       " [0, 0, 2],\n",
       " [0, 1, 1],\n",
       " [0, 1, 1],\n",
       " [0, 1, 1],\n",
       " [0, 1, 1],\n",
       " [0, 1, 1],\n",
       " [0, 1, 1],\n",
       " [0, 2, 0],\n",
       " [0, 1, 1],\n",
       " [0, 1, 1],\n",
       " [0, 1, 1],\n",
       " [0, 1, 1],\n",
       " [0, 0, 2],\n",
       " [0, 1, 1],\n",
       " [0, 1, 1],\n",
       " [0, 2, 0],\n",
       " [0, 1, 1],\n",
       " [0, 2, 0],\n",
       " [0, 1, 1],\n",
       " [0, 2, 0],\n",
       " [0, 1, 1],\n",
       " [0, 0, 2],\n",
       " [0, 1, 1],\n",
       " [0, 0, 2],\n",
       " [0, 1, 1],\n",
       " [0, 2, 0],\n",
       " [0, 2, 0],\n",
       " [0, 0, 2],\n",
       " [0, 1, 1],\n",
       " [0, 2, 0],\n",
       " [0, 0, 2],\n",
       " [0, 2, 0],\n",
       " [0, 2, 0],\n",
       " [0, 1, 1],\n",
       " [0, 2, 0],\n",
       " [0, 2, 0],\n",
       " [0, 2, 0],\n",
       " [0, 1, 1],\n",
       " [0, 0, 2],\n",
       " [0, 2, 0],\n",
       " [0, 2, 0],\n",
       " [0, 2, 0],\n",
       " [0, 1, 1],\n",
       " [0, 1, 1],\n",
       " [0, 2, 0],\n",
       " [0, 1, 1],\n",
       " [0, 1, 1],\n",
       " [0, 1, 1],\n",
       " [0, 1, 1],\n",
       " [0, 2, 0],\n",
       " [0, 2, 0],\n",
       " [0, 0, 2],\n",
       " [0, 2, 0]]"
      ]
     },
     "execution_count": 19,
     "metadata": {},
     "output_type": "execute_result"
    }
   ],
   "source": [
    "res.samples()"
   ]
  },
  {
   "cell_type": "code",
   "execution_count": null,
   "id": "74846079",
   "metadata": {},
   "outputs": [],
   "source": []
  }
 ],
 "metadata": {
  "kernelspec": {
   "display_name": "venv",
   "language": "python",
   "name": "python3"
  },
  "language_info": {
   "codemirror_mode": {
    "name": "ipython",
    "version": 3
   },
   "file_extension": ".py",
   "mimetype": "text/x-python",
   "name": "python",
   "nbconvert_exporter": "python",
   "pygments_lexer": "ipython3",
   "version": "3.13.3"
  }
 },
 "nbformat": 4,
 "nbformat_minor": 5
}
